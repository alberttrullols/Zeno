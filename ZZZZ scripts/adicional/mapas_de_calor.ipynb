{
 "cells": [
  {
   "cell_type": "code",
   "execution_count": 1,
   "metadata": {},
   "outputs": [
    {
     "name": "stdout",
     "output_type": "stream",
     "text": [
      "0.013333333333333334\n"
     ]
    }
   ],
   "source": [
    "import numpy as np\n",
    "import matplotlib.pyplot as plt\n",
    "from scipy.sparse import diags\n",
    "from scipy.sparse.linalg import spsolve\n",
    "from scipy.integrate import quad\n",
    "from scipy.interpolate import interp1d\n",
    "from scipy.integrate import trapezoid\n",
    "\n",
    "# Parametros\n",
    "L = 40 # Tamaño del dominio (en unidades adimensionales)\n",
    "N = 3000 # Numero de puntos espaciales\n",
    "dx = L / N  # Paso espacial\n",
    "print(dx)\n",
    "xi = np.linspace(-L / 2, L / 2, N)  # Grid espacial en unidades adimensionales\n",
    "dt = 0.001  # Paso temporal (en unidades adimensionales)\n",
    "t_max = 7.0 # Tiempo final (tiempo maximo tuneleo)\n",
    "t_steps = int(t_max / dt)  # Numero de pasos temporales\n",
    "\n",
    "\n",
    "\n",
    "# Parámetros del paquete de ondas, función de onda input\n",
    "xi0 = -4  # Posición inicial partícula\n",
    "kappa_0 = 4 # Momento Inicial\n",
    "psi0 = (2 / np.pi)**(1/4) * np.exp(-(xi - xi0)**2) * np.exp(1j * kappa_0 * xi)\n",
    "psi0_star = (2 / np.pi)**(1/4) * np.exp(-(xi - xi0)**2) * np.exp(-1j * kappa_0 * xi)\n",
    "\n",
    "# Barrera de potencial\n",
    "alpha_param = 6\n",
    "v_0 = 1.5 # Altura del potencial (V_0/Ec)\n",
    "b = 1 # Grosor de la barrera (en unidades adimensionales, realmente es xi_b)\n",
    "v = v_0 / (1 + np.abs(xi / b)**alpha_param)  # Forma explicita del potencial\n",
    "# v = v_0 * ( 1 - 1 / (1 + np.abs(xi / b)**alpha_param)) \n",
    "\n",
    "kmin = 0\n",
    "kmax = 50"
   ]
  },
  {
   "cell_type": "code",
   "execution_count": 2,
   "metadata": {},
   "outputs": [],
   "source": [
    "alpha = 1j * dt / (kappa_0 * dx**2)  \n",
    "beta = 1j * dt * kappa_0 / 2  \n",
    "\n",
    "diagonal_a = (1 + alpha + beta * v) * np.ones(N)\n",
    "off_diagonal = -(alpha / 2) * np.ones(N - 1)\n",
    "A = diags([off_diagonal, diagonal_a, off_diagonal], [-1, 0, 1], format=\"csr\")\n",
    "\n",
    "diagonal_b = (1 - alpha - beta * v) * np.ones(N)\n",
    "B = diags([-off_diagonal, diagonal_b, -off_diagonal], [-1, 0, 1], format=\"csr\")"
   ]
  },
  {
   "cell_type": "code",
   "execution_count": null,
   "metadata": {},
   "outputs": [],
   "source": []
  }
 ],
 "metadata": {
  "kernelspec": {
   "display_name": "base",
   "language": "python",
   "name": "python3"
  },
  "language_info": {
   "codemirror_mode": {
    "name": "ipython",
    "version": 3
   },
   "file_extension": ".py",
   "mimetype": "text/x-python",
   "name": "python",
   "nbconvert_exporter": "python",
   "pygments_lexer": "ipython3",
   "version": "3.12.2"
  }
 },
 "nbformat": 4,
 "nbformat_minor": 2
}
