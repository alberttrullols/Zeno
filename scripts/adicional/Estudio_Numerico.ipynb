{
 "cells": [
  {
   "cell_type": "code",
   "execution_count": 21,
   "metadata": {},
   "outputs": [
    {
     "name": "stdout",
     "output_type": "stream",
     "text": [
      "5833\n",
      "6.944444444444445j\n"
     ]
    },
    {
     "ename": "KeyboardInterrupt",
     "evalue": "",
     "output_type": "error",
     "traceback": [
      "\u001b[0;31m---------------------------------------------------------------------------\u001b[0m",
      "\u001b[0;31mKeyboardInterrupt\u001b[0m                         Traceback (most recent call last)",
      "Cell \u001b[0;32mIn[21], line 59\u001b[0m\n\u001b[1;32m     56\u001b[0m     spectral_rad \u001b[38;5;241m=\u001b[39m \u001b[38;5;28mmax\u001b[39m(\u001b[38;5;28mabs\u001b[39m(np\u001b[38;5;241m.\u001b[39marray(eigenvalues)))\n\u001b[1;32m     57\u001b[0m     \u001b[38;5;28;01mreturn\u001b[39;00m spectral_rad\n\u001b[0;32m---> 59\u001b[0m rho \u001b[38;5;241m=\u001b[39m \u001b[43mspectral_radius\u001b[49m\u001b[43m(\u001b[49m\u001b[43mA\u001b[49m\u001b[43m,\u001b[49m\u001b[43m \u001b[49m\u001b[43mB\u001b[49m\u001b[43m)\u001b[49m\n\u001b[1;32m     61\u001b[0m \u001b[38;5;28mprint\u001b[39m(\u001b[38;5;124m\"\u001b[39m\u001b[38;5;124mSpectral radius of A^\u001b[39m\u001b[38;5;124m{\u001b[39m\u001b[38;5;124m-1}B:\u001b[39m\u001b[38;5;124m\"\u001b[39m, rho)\n",
      "Cell \u001b[0;32mIn[21], line 52\u001b[0m, in \u001b[0;36mspectral_radius\u001b[0;34m(A, B)\u001b[0m\n\u001b[1;32m     50\u001b[0m     b \u001b[38;5;241m=\u001b[39m np\u001b[38;5;241m.\u001b[39mzeros(n)\n\u001b[1;32m     51\u001b[0m     b[i] \u001b[38;5;241m=\u001b[39m \u001b[38;5;241m1\u001b[39m  \u001b[38;5;66;03m# Standard basis vector\u001b[39;00m\n\u001b[0;32m---> 52\u001b[0m     x \u001b[38;5;241m=\u001b[39m \u001b[43mA_inv_B\u001b[49m\u001b[43m \u001b[49m\u001b[38;5;241;43m@\u001b[39;49m\u001b[43m \u001b[49m\u001b[43mb\u001b[49m  \u001b[38;5;66;03m# This computes A^(-1) * B * e_i\u001b[39;00m\n\u001b[1;32m     53\u001b[0m     eigenvalues\u001b[38;5;241m.\u001b[39mappend(np\u001b[38;5;241m.\u001b[39mdot(b, x))  \u001b[38;5;66;03m# Compute the Rayleigh quotient\u001b[39;00m\n\u001b[1;32m     55\u001b[0m \u001b[38;5;66;03m# Compute the spectral radius\u001b[39;00m\n",
      "File \u001b[0;32m~/miniconda3/lib/python3.12/site-packages/scipy/sparse/_base.py:669\u001b[0m, in \u001b[0;36m_spbase.__matmul__\u001b[0;34m(self, other)\u001b[0m\n\u001b[1;32m    666\u001b[0m \u001b[38;5;28;01mif\u001b[39;00m isscalarlike(other):\n\u001b[1;32m    667\u001b[0m     \u001b[38;5;28;01mraise\u001b[39;00m \u001b[38;5;167;01mValueError\u001b[39;00m(\u001b[38;5;124m\"\u001b[39m\u001b[38;5;124mScalar operands are not allowed, \u001b[39m\u001b[38;5;124m\"\u001b[39m\n\u001b[1;32m    668\u001b[0m                      \u001b[38;5;124m\"\u001b[39m\u001b[38;5;124muse \u001b[39m\u001b[38;5;124m'\u001b[39m\u001b[38;5;124m*\u001b[39m\u001b[38;5;124m'\u001b[39m\u001b[38;5;124m instead\u001b[39m\u001b[38;5;124m\"\u001b[39m)\n\u001b[0;32m--> 669\u001b[0m \u001b[38;5;28;01mreturn\u001b[39;00m \u001b[38;5;28;43mself\u001b[39;49m\u001b[38;5;241;43m.\u001b[39;49m\u001b[43m_matmul_dispatch\u001b[49m\u001b[43m(\u001b[49m\u001b[43mother\u001b[49m\u001b[43m)\u001b[49m\n",
      "File \u001b[0;32m~/miniconda3/lib/python3.12/site-packages/scipy/sparse/_base.py:564\u001b[0m, in \u001b[0;36m_spbase._matmul_dispatch\u001b[0;34m(self, other)\u001b[0m\n\u001b[1;32m    561\u001b[0m \u001b[38;5;28;01mif\u001b[39;00m other\u001b[38;5;241m.\u001b[39m\u001b[38;5;18m__class__\u001b[39m \u001b[38;5;129;01mis\u001b[39;00m np\u001b[38;5;241m.\u001b[39mndarray:\n\u001b[1;32m    562\u001b[0m     \u001b[38;5;66;03m# Fast path for the most common case\u001b[39;00m\n\u001b[1;32m    563\u001b[0m     \u001b[38;5;28;01mif\u001b[39;00m other\u001b[38;5;241m.\u001b[39mshape \u001b[38;5;241m==\u001b[39m (N,):\n\u001b[0;32m--> 564\u001b[0m         \u001b[38;5;28;01mreturn\u001b[39;00m \u001b[38;5;28;43mself\u001b[39;49m\u001b[38;5;241;43m.\u001b[39;49m\u001b[43m_matmul_vector\u001b[49m\u001b[43m(\u001b[49m\u001b[43mother\u001b[49m\u001b[43m)\u001b[49m\n\u001b[1;32m    565\u001b[0m     \u001b[38;5;28;01melif\u001b[39;00m other\u001b[38;5;241m.\u001b[39mshape \u001b[38;5;241m==\u001b[39m (N, \u001b[38;5;241m1\u001b[39m):\n\u001b[1;32m    566\u001b[0m         result \u001b[38;5;241m=\u001b[39m \u001b[38;5;28mself\u001b[39m\u001b[38;5;241m.\u001b[39m_matmul_vector(other\u001b[38;5;241m.\u001b[39mravel())\n",
      "File \u001b[0;32m~/miniconda3/lib/python3.12/site-packages/scipy/sparse/_compressed.py:492\u001b[0m, in \u001b[0;36m_cs_matrix._matmul_vector\u001b[0;34m(self, other)\u001b[0m\n\u001b[1;32m    490\u001b[0m \u001b[38;5;66;03m# csr_matvec or csc_matvec\u001b[39;00m\n\u001b[1;32m    491\u001b[0m fn \u001b[38;5;241m=\u001b[39m \u001b[38;5;28mgetattr\u001b[39m(_sparsetools, \u001b[38;5;28mself\u001b[39m\u001b[38;5;241m.\u001b[39mformat \u001b[38;5;241m+\u001b[39m \u001b[38;5;124m'\u001b[39m\u001b[38;5;124m_matvec\u001b[39m\u001b[38;5;124m'\u001b[39m)\n\u001b[0;32m--> 492\u001b[0m \u001b[43mfn\u001b[49m\u001b[43m(\u001b[49m\u001b[43mM\u001b[49m\u001b[43m,\u001b[49m\u001b[43m \u001b[49m\u001b[43mN\u001b[49m\u001b[43m,\u001b[49m\u001b[43m \u001b[49m\u001b[38;5;28;43mself\u001b[39;49m\u001b[38;5;241;43m.\u001b[39;49m\u001b[43mindptr\u001b[49m\u001b[43m,\u001b[49m\u001b[43m \u001b[49m\u001b[38;5;28;43mself\u001b[39;49m\u001b[38;5;241;43m.\u001b[39;49m\u001b[43mindices\u001b[49m\u001b[43m,\u001b[49m\u001b[43m \u001b[49m\u001b[38;5;28;43mself\u001b[39;49m\u001b[38;5;241;43m.\u001b[39;49m\u001b[43mdata\u001b[49m\u001b[43m,\u001b[49m\u001b[43m \u001b[49m\u001b[43mother\u001b[49m\u001b[43m,\u001b[49m\u001b[43m \u001b[49m\u001b[43mresult\u001b[49m\u001b[43m)\u001b[49m\n\u001b[1;32m    494\u001b[0m \u001b[38;5;28;01mreturn\u001b[39;00m result[\u001b[38;5;241m0\u001b[39m] \u001b[38;5;28;01mif\u001b[39;00m \u001b[38;5;28mself\u001b[39m\u001b[38;5;241m.\u001b[39mndim \u001b[38;5;241m==\u001b[39m \u001b[38;5;241m1\u001b[39m \u001b[38;5;28;01melse\u001b[39;00m result\n",
      "\u001b[0;31mKeyboardInterrupt\u001b[0m: "
     ]
    }
   ],
   "source": [
    "import numpy as np\n",
    "import matplotlib.pyplot as plt\n",
    "from scipy.sparse import diags, csc_matrix\n",
    "from scipy.sparse.linalg import spsolve\n",
    "\n",
    "# Parameters\n",
    "L = 35  # Domain size (in dimensionless units)\n",
    "dx = 0.006  # Spatial step\n",
    "N = int (L / dx)\n",
    "print(N)\n",
    "xi = np.linspace(-L / 2, L / 2, N)  # Spatial grid in dimensionless units\n",
    "dt = 0.001  # Temporal step (in dimensionless units)\n",
    "t_max = 15 # Final time (maximum tuning time)\n",
    "t_steps = int(t_max / dt)  # Number of time steps\n",
    "\n",
    "# Wave packet parameters, initial wave function\n",
    "xi0 = -4 # Initial position of the particle\n",
    "kappa_0 = 4 # Initial momentum\n",
    "psi0 = (2 / np.pi)**(1/4) * np.exp(-(xi - xi0)**2) * np.exp(1j * kappa_0 * xi)\n",
    "\n",
    "# Potential barrier\n",
    "alpha_param = 6  \n",
    "v_0 = 0 # Height of the potential (V_0/Ec)\n",
    "b = 1 # Thickness of the barrier (in dimensionless units, really xi_b)\n",
    "v = v_0 / (1 + np.abs(xi / b)**alpha_param)  # Explicit form of the potential\n",
    "\n",
    "# Crank-Nicolson matrices \n",
    "alpha = 1j * dt / (kappa_0 * dx**2)  \n",
    "beta = 1j * dt * kappa_0 / 2  \n",
    "\n",
    "print(alpha)\n",
    "\n",
    "diagonal_a = (1 + alpha + beta * v) * np.ones(N)\n",
    "off_diagonal = -(alpha / 2) * np.ones(N - 1)\n",
    "A = csc_matrix(diags([off_diagonal, diagonal_a, off_diagonal], [-1, 0, 1]))  # Convert to CSC format\n",
    "\n",
    "diagonal_b = (1 - alpha - beta * v) * np.ones(N)\n",
    "B = csc_matrix(diags([-off_diagonal, diagonal_b, -off_diagonal], [-1, 0, 1]))  # Convert to CSC format\n",
    "\n",
    "def spectral_radius(A, B):\n",
    "    n = A.shape[0]\n",
    "    \n",
    "    # Calculate A^(-1) * B\n",
    "    A_inv_B = spsolve(A, B)  # Efficiently computes A^(-1) * B for sparse matrices\n",
    "    \n",
    "    # Eigenvalues can be approximated by the Rayleigh quotient\n",
    "    eigenvalues = []\n",
    "    \n",
    "    for i in range(n):\n",
    "        b = np.zeros(n)\n",
    "        b[i] = 1  # Standard basis vector\n",
    "        x = A_inv_B @ b  # This computes A^(-1) * B * e_i\n",
    "        eigenvalues.append(np.dot(b, x))  # Compute the Rayleigh quotient\n",
    "    \n",
    "    # Compute the spectral radius\n",
    "    spectral_rad = max(abs(np.array(eigenvalues)))\n",
    "    return spectral_rad\n",
    "\n",
    "rho = spectral_radius(A, B)\n",
    "\n",
    "print(\"Spectral radius of A^{-1}B:\", rho)\n",
    "\n",
    "\n",
    "\n"
   ]
  },
  {
   "cell_type": "code",
   "execution_count": null,
   "metadata": {},
   "outputs": [],
   "source": []
  }
 ],
 "metadata": {
  "kernelspec": {
   "display_name": "base",
   "language": "python",
   "name": "python3"
  },
  "language_info": {
   "codemirror_mode": {
    "name": "ipython",
    "version": 3
   },
   "file_extension": ".py",
   "mimetype": "text/x-python",
   "name": "python",
   "nbconvert_exporter": "python",
   "pygments_lexer": "ipython3",
   "version": "3.12.2"
  }
 },
 "nbformat": 4,
 "nbformat_minor": 2
}
