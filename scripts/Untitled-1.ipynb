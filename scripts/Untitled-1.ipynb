{
 "cells": [
  {
   "cell_type": "code",
   "execution_count": 8,
   "metadata": {},
   "outputs": [
    {
     "name": "stdout",
     "output_type": "stream",
     "text": [
      "Custom plot saved as custom_plot.png\n"
     ]
    }
   ],
   "source": [
    "import numpy as np\n",
    "import matplotlib.pyplot as plt\n",
    "from matplotlib import rcParams\n",
    "\n",
    "\n",
    "# Enable LaTeX rendering\n",
    "rcParams['text.usetex'] = True\n",
    "rcParams['font.family'] = 'serif'\n",
    "rcParams['font.serif'] = ['Computer Modern']  # Default LaTeX font\n",
    "\n",
    "\n",
    "# Function to create the plot for the given expression\n",
    "def create_custom_plot(xi, b, alpha_param, output_path, x_label, y_label):\n",
    "    # Compute the expression (1 - 1 / (1 + |xi / b|)^alpha)\n",
    "    y =   1 / (1 + np.abs(xi / b)**alpha_param)\n",
    "    \n",
    "    # Create the plot\n",
    "    plt.figure(figsize=(6, 4))\n",
    "    plt.plot(xi, y, color='black')\n",
    "    plt.xlabel(x_label, fontsize=33)\n",
    "    plt.ylabel(y_label, fontsize=33)\n",
    "    plt.tick_params(axis='both', labelsize=20)\n",
    "    plt.xticks([])  # Remove x-axis ticks\n",
    "    plt.yticks([1], [r\"$v_0$\"])  # Remove y-axis ticks\n",
    "    plt.grid(False)\n",
    "    plt.tick_params(axis = \"both\", labelsize = 33)\n",
    "    \n",
    "    # Save the plot as a PNG with a transparent background\n",
    "    plt.savefig(output_path, dpi=300, bbox_inches='tight', pad_inches=0, transparent=True)\n",
    "    plt.close()\n",
    "\n",
    "# Generate data for the custom plot\n",
    "xi = np.linspace(-10, 10, 500)\n",
    "b = 5  # Example value for b\n",
    "alpha_param = 10  # Example value for alpha\n",
    "\n",
    "# Labels for the axes\n",
    "x_label = r\"$p$\"\n",
    "y_label = r\"$v_0v(\\xi)$\"\n",
    "\n",
    "# File path for saving the plot\n",
    "output_path_custom = \"custom_plot.png\"\n",
    "\n",
    "# Create the plot\n",
    "create_custom_plot(xi, b, alpha_param, output_path_custom, x_label, y_label)\n",
    "\n",
    "print(f\"Custom plot saved as {output_path_custom}\")\n"
   ]
  },
  {
   "cell_type": "code",
   "execution_count": null,
   "metadata": {},
   "outputs": [],
   "source": []
  }
 ],
 "metadata": {
  "kernelspec": {
   "display_name": "base",
   "language": "python",
   "name": "python3"
  },
  "language_info": {
   "codemirror_mode": {
    "name": "ipython",
    "version": 3
   },
   "file_extension": ".py",
   "mimetype": "text/x-python",
   "name": "python",
   "nbconvert_exporter": "python",
   "pygments_lexer": "ipython3",
   "version": "3.12.2"
  }
 },
 "nbformat": 4,
 "nbformat_minor": 2
}
